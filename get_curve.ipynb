{
 "cells": [
  {
   "cell_type": "code",
   "execution_count": 55,
   "metadata": {},
   "outputs": [],
   "source": [
    "import numpy as np\n",
    "import matplotlib.pyplot as plt\n",
    "from sklearn.cluster import DBSCAN,AgglomerativeClustering\n",
    "import pandas as pd\n",
    "# from jarvis_march import Jarvis_march\n",
    "# from math import sqrt\n",
    "import cv2"
   ]
  },
  {
   "cell_type": "code",
   "execution_count": 3,
   "metadata": {},
   "outputs": [],
   "source": [
    "def read_obj(in_path):\n",
    "    vertices = []\n",
    "    faces = []\n",
    "\n",
    "    f = open(in_path)\n",
    "    for line in f.readlines():\n",
    "        tmp = line.strip().split(' ')\n",
    "        if tmp[0]==\"v\":\n",
    "            tmp = list(map(float, tmp[1:]))\n",
    "            vertices.append(tmp)\n",
    "        elif tmp[0] =='f': \n",
    "            tmp = list(map(int, tmp[1:]))\n",
    "            faces.append(tmp)\n",
    "        else:\n",
    "            continue\n",
    "    f.close\n",
    "\n",
    "    if not len(faces) or not len(vertices):\n",
    "        return None, None\n",
    "\n",
    "    return vertices, faces"
   ]
  },
  {
   "cell_type": "code",
   "execution_count": 4,
   "metadata": {},
   "outputs": [],
   "source": [
    "def output_point_df(vt, pos):\n",
    "    vt_output = []\n",
    "    df_vt = pd.DataFrame(vt)\n",
    "    count = 0\n",
    "    x,y = 0,0\n",
    "    if pos == 'x':\n",
    "        x,y = 1,2\n",
    "    elif pos == 'y':\n",
    "        x,y = 0,1\n",
    "    else:\n",
    "        x,y = 0,2 \n",
    "    slice_n = 5\n",
    "    slice = len(vt)//slice_n\n",
    "    # for r in range(0,len(vt)-slice,slice):\n",
    "    #     img_gray_c = img_gray.copy()\n",
    "    #     vt_tmp = []\n",
    "    #     for j in range(r, r + slice):\n",
    "    #         img_gray_c[vt[j][x]][vt[j][y]] = 255\n",
    "    #         cv2.imwrite(f'img_{pos}_{count}.jpg',img_gray_c)\n",
    "    #     count+=1\n",
    "    b = 0\n",
    "    for r in range(slice_n):\n",
    "        vt_output.append((df_vt.iloc[b:slice + b,[x,y]]).rename(columns={x:0,y:1}))\n",
    "        b += slice\n",
    "    return vt_output"
   ]
  },
  {
   "cell_type": "code",
   "execution_count": 33,
   "metadata": {},
   "outputs": [],
   "source": [
    "def output_point(vt, pos):\n",
    "    vt_output = []\n",
    "    count = 0\n",
    "    x,y = 0,0\n",
    "    if pos == 'x':\n",
    "        x,y = 1,2\n",
    "    elif pos == 'y':\n",
    "        x,y = 0,1\n",
    "    else:\n",
    "        x,y = 0,2 \n",
    "    slice_n = 5\n",
    "    slice = len(vt)//slice_n\n",
    "    b = 0\n",
    "    for r in range(slice_n):\n",
    "        vt_tmp = []\n",
    "        for r in range(b,b+slice):\n",
    "            vt_tmp.append([vt[r][x],vt[r][y]])\n",
    "        vt_output.append(vt_tmp)\n",
    "        b += slice\n",
    "    return vt_output"
   ]
  },
  {
   "cell_type": "code",
   "execution_count": 6,
   "metadata": {},
   "outputs": [],
   "source": [
    "def draw_point(vt,pos,img_gray,n):\n",
    "    \n",
    "    for v in vt:\n",
    "        img_gray[v[0]][v[1]] = 255\n",
    "        cv2.imwrite(f'img_{pos}_{n}.jpg',img_gray)"
   ]
  },
  {
   "cell_type": "code",
   "execution_count": 8,
   "metadata": {},
   "outputs": [],
   "source": [
    "def compare_x(a):\n",
    "    return (a[0])\n",
    "def compare_y(a):\n",
    "    return (a[2])\n",
    "def compare_z(a):\n",
    "    return (a[1])"
   ]
  },
  {
   "cell_type": "code",
   "execution_count": 9,
   "metadata": {},
   "outputs": [],
   "source": [
    "vt,_=read_obj('014200.obj')"
   ]
  },
  {
   "cell_type": "code",
   "execution_count": 10,
   "metadata": {},
   "outputs": [],
   "source": [
    "vt = np.array(vt)\n",
    "vt = vt * 225\n",
    "vt = vt + 113\n",
    "vt = np.int64(vt)"
   ]
  },
  {
   "cell_type": "code",
   "execution_count": 31,
   "metadata": {},
   "outputs": [],
   "source": [
    "vt_x = sorted(vt,key=compare_x)\n",
    "vt_y = sorted(vt,key=compare_y)\n",
    "vt_z = sorted(vt,key=compare_z)"
   ]
  },
  {
   "cell_type": "code",
   "execution_count": 12,
   "metadata": {},
   "outputs": [],
   "source": [
    "img = cv2.imread('black.png')\n",
    "img_gray = cv2.cvtColor(img, cv2.COLOR_BGR2GRAY)"
   ]
  },
  {
   "cell_type": "code",
   "execution_count": 161,
   "metadata": {},
   "outputs": [],
   "source": [
    "df_vt_x = output_point_df(vt_x,'x')\n",
    "df_vt_y = output_point_df(vt_y,'y')\n",
    "df_vt_z = output_point_df(vt_z,'z')"
   ]
  },
  {
   "cell_type": "code",
   "execution_count": 34,
   "metadata": {},
   "outputs": [],
   "source": [
    "c_vt_x = output_point(vt_x,'x')\n",
    "c_vt_y = output_point(vt_y,'y')\n",
    "c_vt_z = output_point(vt_z,'z')"
   ]
  },
  {
   "cell_type": "code",
   "execution_count": 160,
   "metadata": {},
   "outputs": [],
   "source": [
    "clustering=AgglomerativeClustering(n_clusters=6,affinity='euclidean',linkage='ward')"
   ]
  },
  {
   "cell_type": "code",
   "execution_count": 168,
   "metadata": {},
   "outputs": [
    {
     "data": {
      "text/plain": [
       "<matplotlib.collections.PathCollection at 0x1a168542280>"
      ]
     },
     "execution_count": 168,
     "metadata": {},
     "output_type": "execute_result"
    },
    {
     "data": {
      "image/png": "[encoded data removed]",
      "text/plain": [
       "<Figure size 432x288 with 1 Axes>"
      ]
     },
     "metadata": {
      "needs_background": "light"
     },
     "output_type": "display_data"
    }
   ],
   "source": [
    "plt.scatter(df_vt_y[8][0],df_vt_y[8][1],c=clustering.fit_predict(df_vt_y[8]))"
   ]
  },
  {
   "cell_type": "code",
   "execution_count": 38,
   "metadata": {},
   "outputs": [
    {
     "data": {
      "text/plain": [
       "128"
      ]
     },
     "execution_count": 38,
     "metadata": {},
     "output_type": "execute_result"
    }
   ],
   "source": [
    "len(c_vt_x[0])"
   ]
  },
  {
   "cell_type": "markdown",
   "metadata": {},
   "source": [
    "### 或许先处理outlier的点？"
   ]
  },
  {
   "cell_type": "markdown",
   "metadata": {},
   "source": [
    "### Javis_march 不行，试做 alpha shape"
   ]
  },
  {
   "cell_type": "code",
   "execution_count": 41,
   "metadata": {},
   "outputs": [],
   "source": [
    "for r in range(5):\n",
    "    draw_point(c_vt_x[r],'x_c',img_gray.copy(),r)"
   ]
  }
 ],
 "metadata": {
  "kernelspec": {
   "display_name": "Python 3.8.8 ('base')",
   "language": "python",
   "name": "python3"
  },
  "language_info": {
   "codemirror_mode": {
    "name": "ipython",
    "version": 3
   },
   "file_extension": ".py",
   "mimetype": "text/x-python",
   "name": "python",
   "nbconvert_exporter": "python",
   "pygments_lexer": "ipython3",
   "version": "3.8.8"
  },
  "orig_nbformat": 4,
  "vscode": {
   "interpreter": {
    "hash": "a90aeebcf29d64a654773811cc170cb25061cb2498f10ac689db374c7bf325de"
   }
  }
 },
 "nbformat": 4,
 "nbformat_minor": 2
}
